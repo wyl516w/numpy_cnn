{
 "cells": [
  {
   "cell_type": "code",
   "execution_count": 2,
   "metadata": {},
   "outputs": [],
   "source": [
    "from sad_layer import *\n",
    "import numpy as np\n",
    "\n",
    "input=np.random.rand(9,1,100,100)\n",
    "input_=input.copy()\n",
    "a=Conv2DLayer(1,20,3,0)\n",
    "a_=Conv2DLayer_(1,20,3,0)\n",
    "a_.w=a.w.copy()\n",
    "print(np.mean(a.forward(input)-a_.forward(input_)<=1e-8))\n",
    "print(a.output_data.shape)\n",
    "output=np.random.rand(*a.output_data.shape)\n",
    "output_=output.copy()\n",
    "print(np.mean(a.backward(output)-a_.backward(output_)<=1e-10))"
   ]
  },
  {
   "cell_type": "code",
   "execution_count": 4,
   "metadata": {},
   "outputs": [
    {
     "name": "stdout",
     "output_type": "stream",
     "text": [
      "1\n",
      "1\n",
      "10\n"
     ]
    }
   ],
   "source": []
  },
  {
   "cell_type": "code",
   "execution_count": null,
   "metadata": {},
   "outputs": [],
   "source": [
    "def function(a,b):\n",
    "    pass\n",
    "\n",
    "function(a=1,b=2)"
   ]
  }
 ],
 "metadata": {
  "kernelspec": {
   "display_name": "face",
   "language": "python",
   "name": "python3"
  },
  "language_info": {
   "codemirror_mode": {
    "name": "ipython",
    "version": 3
   },
   "file_extension": ".py",
   "mimetype": "text/x-python",
   "name": "python",
   "nbconvert_exporter": "python",
   "pygments_lexer": "ipython3",
   "version": "3.11.5"
  }
 },
 "nbformat": 4,
 "nbformat_minor": 2
}
